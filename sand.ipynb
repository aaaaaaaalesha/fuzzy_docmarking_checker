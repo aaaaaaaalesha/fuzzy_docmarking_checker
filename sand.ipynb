{
 "cells": [
  {
   "cell_type": "code",
   "execution_count": 1,
   "metadata": {
    "collapsed": true
   },
   "outputs": [],
   "source": [
    "import pandas as pd"
   ]
  },
  {
   "cell_type": "code",
   "execution_count": 2,
   "outputs": [
    {
     "data": {
      "text/plain": "              DateTime    Filename 1    Creator name 1 Workplace name 1  \\\n0  15.07.2022 20:41:25  report1.docx  Эрендженова Д.С.               PC   \n\n        Creation time 1  Last modified time 1  \\\n0  2021-05-30T11:51:00Z  2022-07-15T17:27:00Z   \n\n                                        Fuzzy hash 1  Hash integrity 1  \\\n0  48:Juta8FT3VPES42LT/kYSI2SIxl8XDdTcyd8/KQ3l8XD...              True   \n\n                                           SHA3-hash    Filename 2  \\\n0  440004f651b4f5caf70abedacb329c3c319602bcd4f99f...  report2.docx   \n\n     Creator name 2 Workplace name 2       Creation time 2  \\\n0  Эрендженова Д.С.               PC  2021-05-30T11:51:00Z   \n\n   Last modified time 2                                       Fuzzy hash 2  \\\n0  2022-07-15T17:30:00Z  48:Juta8FT3VPES42LT/kM3Yl8XDdTcyd8CDQ3l8XDdTcu...   \n\n   Hash integrity 2 Matching  \n0              True     74 %  ",
      "text/html": "<div>\n<style scoped>\n    .dataframe tbody tr th:only-of-type {\n        vertical-align: middle;\n    }\n\n    .dataframe tbody tr th {\n        vertical-align: top;\n    }\n\n    .dataframe thead th {\n        text-align: right;\n    }\n</style>\n<table border=\"1\" class=\"dataframe\">\n  <thead>\n    <tr style=\"text-align: right;\">\n      <th></th>\n      <th>DateTime</th>\n      <th>Filename 1</th>\n      <th>Creator name 1</th>\n      <th>Workplace name 1</th>\n      <th>Creation time 1</th>\n      <th>Last modified time 1</th>\n      <th>Fuzzy hash 1</th>\n      <th>Hash integrity 1</th>\n      <th>SHA3-hash</th>\n      <th>Filename 2</th>\n      <th>Creator name 2</th>\n      <th>Workplace name 2</th>\n      <th>Creation time 2</th>\n      <th>Last modified time 2</th>\n      <th>Fuzzy hash 2</th>\n      <th>Hash integrity 2</th>\n      <th>Matching</th>\n    </tr>\n  </thead>\n  <tbody>\n    <tr>\n      <th>0</th>\n      <td>15.07.2022 20:41:25</td>\n      <td>report1.docx</td>\n      <td>Эрендженова Д.С.</td>\n      <td>PC</td>\n      <td>2021-05-30T11:51:00Z</td>\n      <td>2022-07-15T17:27:00Z</td>\n      <td>48:Juta8FT3VPES42LT/kYSI2SIxl8XDdTcyd8/KQ3l8XD...</td>\n      <td>True</td>\n      <td>440004f651b4f5caf70abedacb329c3c319602bcd4f99f...</td>\n      <td>report2.docx</td>\n      <td>Эрендженова Д.С.</td>\n      <td>PC</td>\n      <td>2021-05-30T11:51:00Z</td>\n      <td>2022-07-15T17:30:00Z</td>\n      <td>48:Juta8FT3VPES42LT/kM3Yl8XDdTcyd8CDQ3l8XDdTcu...</td>\n      <td>True</td>\n      <td>74 %</td>\n    </tr>\n  </tbody>\n</table>\n</div>"
     },
     "execution_count": 2,
     "metadata": {},
     "output_type": "execute_result"
    }
   ],
   "source": [
    "df = pd.read_csv('result.csv')\n",
    "df"
   ],
   "metadata": {
    "collapsed": false,
    "pycharm": {
     "name": "#%%\n"
    }
   }
  }
 ],
 "metadata": {
  "kernelspec": {
   "display_name": "Python 3",
   "language": "python",
   "name": "python3"
  },
  "language_info": {
   "codemirror_mode": {
    "name": "ipython",
    "version": 2
   },
   "file_extension": ".py",
   "mimetype": "text/x-python",
   "name": "python",
   "nbconvert_exporter": "python",
   "pygments_lexer": "ipython2",
   "version": "2.7.6"
  }
 },
 "nbformat": 4,
 "nbformat_minor": 0
}